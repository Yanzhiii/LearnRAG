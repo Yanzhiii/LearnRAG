{
  "cells": [
    {
      "cell_type": "markdown",
      "metadata": {
        "id": "view-in-github",
        "colab_type": "text"
      },
      "source": [
        "<a href=\"https://colab.research.google.com/github/Yanzhiii/LearnRAG/blob/main/LearnRAG.ipynb\" target=\"_parent\"><img src=\"https://colab.research.google.com/assets/colab-badge.svg\" alt=\"Open In Colab\"/></a>"
      ]
    },
    {
      "cell_type": "code",
      "execution_count": null,
      "metadata": {
        "id": "ZZecW6EIzMuk"
      },
      "outputs": [],
      "source": [
        "!pip install -q rank_bm25\n",
        "!pip install -q chromadb\n",
        "!pip install -qU bitsandbytes accelerate\n",
        "!pip install -q langchain_community\n",
        "!pip install -qU peft"
      ]
    },
    {
      "cell_type": "code",
      "execution_count": null,
      "metadata": {
        "id": "PsuuAvdHCPR5"
      },
      "outputs": [],
      "source": [
        "import numpy as np\n",
        "import string\n",
        "import json\n",
        "import os\n",
        "from rank_bm25 import BM25Okapi\n",
        "import torch\n",
        "import gc\n",
        "from transformers import AutoModelForCausalLM, AutoTokenizer, BitsAndBytesConfig\n",
        "from google.colab import userdata\n",
        "from peft import PeftModel\n",
        "\n",
        "import requests\n",
        "from bs4 import BeautifulSoup\n",
        "\n",
        "import textwrap"
      ]
    },
    {
      "cell_type": "code",
      "execution_count": null,
      "metadata": {
        "colab": {
          "base_uri": "https://localhost:8080/"
        },
        "id": "r_typITj8Mj3",
        "outputId": "62b0e88d-7135-4422-b019-cd7aafdb9cfe"
      },
      "outputs": [
        {
          "name": "stdout",
          "output_type": "stream",
          "text": [
            "Using GPU: Tesla T4\n"
          ]
        }
      ],
      "source": [
        "if torch.cuda.is_available():\n",
        "    device = torch.device(\"cuda\")\n",
        "    print(\"Using GPU:\", torch.cuda.get_device_name(0))\n",
        "else:\n",
        "    device = torch.device(\"cpu\")\n",
        "    print(\"Using CPU\")"
      ]
    },
    {
      "cell_type": "code",
      "execution_count": null,
      "metadata": {
        "id": "I_gTmIy9_Ma1"
      },
      "outputs": [],
      "source": [
        "# Add Hugging Face token in Colab Secret\n",
        "hf_token = userdata.get('HF_TOKEN')\n",
        "os.environ['HF_TOKEN'] = hf_token"
      ]
    },
    {
      "cell_type": "code",
      "execution_count": null,
      "metadata": {
        "id": "GWJdrfKSloxO"
      },
      "outputs": [],
      "source": [
        "improved_rag = False\n",
        "debug_mode = True    # To skip certain cells"
      ]
    },
    {
      "cell_type": "code",
      "execution_count": null,
      "metadata": {
        "id": "mdu_PsQQQWbk"
      },
      "outputs": [],
      "source": [
        "query = \"What's the meaning of embeddings in NLP?\""
      ]
    },
    {
      "cell_type": "markdown",
      "metadata": {
        "id": "sbyCLoTdN4cu"
      },
      "source": [
        "## Data Collector"
      ]
    },
    {
      "cell_type": "markdown",
      "metadata": {
        "id": "6EcxjaCRjOzB"
      },
      "source": [
        "### Baseline Data Collector"
      ]
    },
    {
      "cell_type": "code",
      "execution_count": null,
      "metadata": {
        "colab": {
          "base_uri": "https://localhost:8080/"
        },
        "id": "m-MdofN0N9wD",
        "outputId": "6acd4f75-4d6b-4201-dda7-efa74859563d"
      },
      "outputs": [
        {
          "name": "stdout",
          "output_type": "stream",
          "text": [
            "Skip this cell\n"
          ]
        }
      ],
      "source": [
        "if improved_rag:\n",
        "  print(\"Skip this cell\")\n",
        "else:\n",
        "  print(\"Run this cell\")\n",
        "\n",
        "  def scrape_p(url):\n",
        "      response = requests.get(url)\n",
        "      soup = BeautifulSoup(response.content,\"html.parser\")\n",
        "      paragraphs = soup.find_all(\"p\")\n",
        "      scraped_doc = []\n",
        "      for p in paragraphs:\n",
        "          scraped_doc.append(p.get_text())\n",
        "\n",
        "      return scraped_doc\n",
        "\n",
        "  doc_1 = \"https://www.ibm.com/think/topics/machine-learning\"\n",
        "  doc_2 = \"https://www.ibm.com/think/topics/support-vector-machine\"\n",
        "  database = list(set(scrape_p(doc_1) + scrape_p(doc_2)))"
      ]
    },
    {
      "cell_type": "markdown",
      "metadata": {
        "id": "RcRlBIvMeeIe"
      },
      "source": [
        "## Retriver"
      ]
    },
    {
      "cell_type": "markdown",
      "metadata": {
        "id": "LXGsrM4xjBmv"
      },
      "source": [
        "### Baseline Retriver using BM25\n",
        "BM25 repo: https://github.com/dorianbrown/rank_bm25"
      ]
    },
    {
      "cell_type": "code",
      "execution_count": null,
      "metadata": {
        "colab": {
          "base_uri": "https://localhost:8080/"
        },
        "id": "zrx3UiKmB9fl",
        "outputId": "cfc2f697-72fd-4839-9777-6a95a09669dd"
      },
      "outputs": [
        {
          "name": "stdout",
          "output_type": "stream",
          "text": [
            "Skip this cell\n"
          ]
        }
      ],
      "source": [
        "if improved_rag:\n",
        "  print(\"Skip this cell\")\n",
        "else:\n",
        "  print(\"Run this cell\")\n",
        "\n",
        "  top_n = 6\n",
        "  punc = string.punctuation\n",
        "  clean_tokenized_docs = []\n",
        "\n",
        "  # split by \" \" then remove punctuation\n",
        "  tokenized_docs = [doc.split(\" \") for doc in database]\n",
        "  for i in range(len(tokenized_docs)):\n",
        "      clean_tokenized_docs += [[word.strip(punc) for word in tokenized_docs[i]]]\n",
        "\n",
        "  bm25 = BM25Okapi(clean_tokenized_docs)\n",
        "  clean_tokenized_query = [word.strip(punc) for word in query.split(\" \")]\n",
        "  doc_scores = bm25.get_scores(clean_tokenized_query)   # get the indeces of docs from small to big\n",
        "  top_n_indices = np.argsort(doc_scores)[-top_n:][::-1] # get the top-n docs\n",
        "  top_n_docs = [database[i] for i in top_n_indices]"
      ]
    },
    {
      "cell_type": "markdown",
      "metadata": {
        "id": "rW_ovLrWGqbN"
      },
      "source": [
        "### Improved Retriever using Chroma DB"
      ]
    },
    {
      "cell_type": "code",
      "execution_count": null,
      "metadata": {
        "id": "bwM_20k1GqI8"
      },
      "outputs": [],
      "source": [
        "import os\n",
        "from langchain_text_splitters.character import RecursiveCharacterTextSplitter\n",
        "\n",
        "# Loads the chromadb collection from text files\n",
        "def load_collection(collection,docs_directory,chunk_size=100,chunk_overlap=30):\n",
        "    raw_docs = []\n",
        "    for (root, dirs, file) in os.walk(docs_directory):\n",
        "        raw_docs = file\n",
        "\n",
        "    text_splitter = RecursiveCharacterTextSplitter(\n",
        "    chunk_size=chunk_size,\n",
        "    chunk_overlap=chunk_overlap,\n",
        "    length_function=len,\n",
        "    add_start_index=True,\n",
        "    )\n",
        "\n",
        "    for raw_doc in raw_docs:\n",
        "        id = ''\n",
        "        doc = ''\n",
        "        with open('/'.join([docs_directory,raw_doc]),\"r\",encoding=\"utf-8\") as file:\n",
        "            id = raw_doc.removesuffix('.txt').replace('_','/')\n",
        "            doc = file.readline()\n",
        "            docs = text_splitter.split_text(doc)\n",
        "            docs_len = len(docs)\n",
        "            ids = []\n",
        "            for i in range(docs_len):\n",
        "              ids.append(id+'_'+str(i))\n",
        "        collection.add(documents=docs,ids=ids)"
      ]
    },
    {
      "cell_type": "markdown",
      "metadata": {
        "id": "RFjBrvhF0Zlp"
      },
      "source": [
        "_Latest progress 25-03-2025_"
      ]
    },
    {
      "cell_type": "code",
      "execution_count": null,
      "metadata": {
        "id": "D-kwAhb4o8WQ"
      },
      "outputs": [],
      "source": [
        "import os\n",
        "from langchain_text_splitters.character import RecursiveCharacterTextSplitter\n",
        "from langchain_community.document_loaders import PyPDFLoader\n",
        "\n",
        "# Loads chromadb collection from pdfs\n",
        "def load_collection_pdf(collection,docs_directory,chunk_size=300,chunk_overlap=100):\n",
        "    raw_docs = []\n",
        "    for (root, dirs, file) in os.walk(docs_directory):\n",
        "        raw_docs = file\n",
        "\n",
        "    text_splitter = RecursiveCharacterTextSplitter(\n",
        "    chunk_size=chunk_size,\n",
        "    chunk_overlap=chunk_overlap,\n",
        "    length_function=len,\n",
        "    add_start_index=True,\n",
        ")\n",
        "\n",
        "    for raw_doc in raw_docs[:10]:\n",
        "        id = ''\n",
        "        doc = ''\n",
        "        loader = PyPDFLoader('/'.join([docs_directory,raw_doc]))\n",
        "        document = loader.load()\n",
        "        for docpart in document:\n",
        "          doc = ' '.join([doc,docpart.page_content])\n",
        "        docs = text_splitter.split_text(doc)\n",
        "        docs_len = len(docs)\n",
        "        ids = []\n",
        "        for i in range(docs_len):\n",
        "          ids.append(id+'_'+str(i))\n",
        "        collection.add(documents=docs,ids=ids)"
      ]
    },
    {
      "cell_type": "code",
      "execution_count": null,
      "metadata": {
        "id": "kxrevzeK0iIv"
      },
      "outputs": [],
      "source": [
        "!unzip '/content/chroma.zip'"
      ]
    },
    {
      "cell_type": "code",
      "execution_count": null,
      "metadata": {
        "id": "m2Ff2Jzg0oZC"
      },
      "outputs": [],
      "source": [
        "import chromadb\n",
        "chroma_client = chromadb.PersistentClient(path='/content/chroma')"
      ]
    },
    {
      "cell_type": "code",
      "execution_count": null,
      "metadata": {
        "colab": {
          "base_uri": "https://localhost:8080/"
        },
        "id": "AB8UHWn77SDR",
        "outputId": "ba75b85b-7a94-4e57-9fc1-ecbfe295a631"
      },
      "outputs": [
        {
          "name": "stdout",
          "output_type": "stream",
          "text": [
            "[Collection(name=all_collection)]\n"
          ]
        }
      ],
      "source": [
        "print(chroma_client.list_collections())"
      ]
    },
    {
      "cell_type": "code",
      "execution_count": null,
      "metadata": {
        "id": "1g4vb3620sWn"
      },
      "outputs": [],
      "source": [
        "ml_sample = chroma_client.get_collection(name=\"all_collection\")"
      ]
    },
    {
      "cell_type": "code",
      "execution_count": null,
      "metadata": {
        "id": "T7UGjb_h0uqV"
      },
      "outputs": [],
      "source": [
        "retriver_output = ml_sample.query(\n",
        "    query_texts = [query],\n",
        "    n_results = 5\n",
        ")\n",
        "retriver_output = [chunk.replace('\\n', ' ') for chunk in retriver_output['documents'][0]]"
      ]
    },
    {
      "cell_type": "code",
      "execution_count": null,
      "metadata": {
        "colab": {
          "base_uri": "https://localhost:8080/"
        },
        "id": "t_Wubcoqo5yW",
        "outputId": "6fe5938a-ae00-43ce-cab2-8bfc87e4a66f"
      },
      "outputs": [
        {
          "data": {
            "text/plain": [
              "['Embeddings are long vectors of real numbers and provide a way to represent  the knowledge associated with the tokens. During training, a model implicitly  deﬁnes a representation space that determines the meaning of embeddings. Usually,  embeddings are assigned to tokens, i.e. parts of words, but may also be determined  for paragraphs and complete documents. If two embeddings have a small vector  distance, the meaning of the underlying tokens is similar. Foundation Models  generate increasingly reﬁned embeddings in their layers by taking into account the  context of the tokens. The word “bank” close to the word “money” has a different  embedding than a “bank” close to the word “river”, making the embeddings  contextual. These effects also apply to tokens of different media types.  Embeddings are calculated by self-attention computing correlations between  linear projections of input embeddings. This is done in parallel by multiple linear',\n",
              " 'Internet to train the models. In the second step, the model was ﬁne-tuned with  a few-thousand manually annotated sentences to solve a speciﬁc task, such as  determining, whether a movie review expresses a positive sentiment. The approach  worked extremely well, showing that the models have the capability to detect  subtle semantic properties of language. This two-step procedure was called transfer  learning. After extensive experimentation, it was found that these models worked  better the bigger they became and the more data their training sets contained.  Knowledge in PLMs is stored by a huge number of parameters. Parameters  contain the recipe to compute embeddings for the input tokens of the models. 8.1 Foundation Models Are a New Paradigm 385 Embeddings are long vectors of real numbers and provide a way to represent  the knowledge associated with the tokens. During training, a model implicitly  deﬁnes a representation space that determines the meaning of embeddings. Usually,',\n",
              " 'that StyleLM has problems with content reproduction. They propose to pre-train  the encoder-decoder .DECw(ENCu(x)) on a large generic corpus. Afterwards the  encoder-decoder is ﬁne-tuned on the text of the target author.  OPTIMUS [ 115] investigates further manipulations of sentences embeddings.  An encoder with parameter . u is required to generate a latent vector from text . z= ENCu(x). It is initialized with a pre-trained BERT model. A linearly transformed  version .z=W∗h [CLS] of the embedding of the ﬁrst token [CLS] of a sentence is  deﬁned as latent representation. The generator (decoder) with parameter . w generates  the text sequence .x=D ECw(z) from a random vector . z (e.g. multivariate Gaussian)  with prior .p(z). The authors start with a pre-trained GPT-2 model as decoder. . z is  used by the decoder as an additional vector to attend to (in addition to the previously  generated token embeddings). Both networks .˜x=D ECw(ENCu(x)) are trained',\n",
              " 'by the same PLM (BERT or RoBERTa). Similarity was compared by the cosine  similarity  .φ(ηq(q),η d(di))= ηq(q)⊺ηd(di)\\ued79\\ued79 ηq(q) \\ued79\\ued79∗ \\ued79\\ued79ηd(di) \\ued79\\ued79. (6.6)  To generate sentence embeddings the authors investigated three alternatives. (1)  Use the embedding of the [CLS] token. (2) Averaging (mean-pooling) of all  output embeddings. (3) Component-wise maximum (max-pooling) of all output  embeddings. Without ﬁne-tuning the results were worse than for non-contextual  embeddings. Fine-tuning boosted performance and yields a new S OTA. It turned out  that average pooling was the most effective design, slightly better than max pooling  or using the [CLS] token. Most important the computation time for ﬁnding the best  match in 10,000 documents was reduced from 65 h to 5 s.  DPR [ 94] used separate encoders .ηq(q) and .ηd(di) for the query q and the text  passages . di of about 100 words. Both encoders took the [CLS] embedding from  BERT.BASE as its output representation. As comparison function the inner product',\n",
              " 'embeddings are concatenated and used as input to a logistic classiﬁer to estimate  the probability of the possible relations (or ‘no relation’). Pre-trained variants of  BERT are ﬁne-tuned with ACE 2005 to predict the relations. With a BERT. BASE model of 105M parameters the approach yields an F1-value of 68.8% on the ACE05  benchmark. If ALBERT.XXLARGE [45] with 235M parameters is used to compute the  embeddings, the F1-score grows to 72.3%.  For NER, the PL-Marker model uses a similar approach. For each possible  span in the input starting at token . vi and ending at token .vj,j≥i , leviated markers  are created, which do not affect the embeddings of the normal tokens. Again the  embeddings of the start and end tokens of a span as well as the embeddings of  leviated markers are input for a logistic classiﬁer computing the probability of the 5.4 Relation Extraction 213 “This Must Be the Place” is a song by new wave band  Talking Heads, released in November 1983 as the']"
            ]
          },
          "execution_count": 16,
          "metadata": {},
          "output_type": "execute_result"
        }
      ],
      "source": [
        "retriver_output"
      ]
    },
    {
      "cell_type": "markdown",
      "metadata": {
        "id": "W7_DIeBOtH0F"
      },
      "source": [
        "## Prompts"
      ]
    },
    {
      "cell_type": "code",
      "execution_count": null,
      "metadata": {
        "id": "q2fiGOsLtFR6"
      },
      "outputs": [],
      "source": [
        "retrieved_docs = \"\\n\".join(retriver_output)\n",
        "rag_prompts = \"You are a learning assistance chatbot. Based only on the provided knowledge base, \\\n",
        "answer the user's question. If the knowledge base does not contain relevant information \\\n",
        "to answer the question, clearly state that you do not know and cannot answer \\\n",
        "based on the available information. When you can answer, explain clearly, \\\n",
        "providing relevant details and background information found within the text. \\\n",
        "Do not use any prior knowledge. \\n\\\n",
        "Knowledge base: \\n{}\\n\\\n",
        "Question: {}\\n\\\n",
        "Indicate what you refer to in the knowledge database briefly, \\\n",
        "Answer the question concisely with nice structure and fluent logic in one paragraph:\\n\".format(retrieved_docs, query)\n",
        "\n",
        "plain_prompts = \"You are a learning assistance chatbot answering the given question.\\n\\\n",
        "Question: {}\\n\\\n",
        "Following the instruction at beginning, answer the question in your words concisely with in one paragraph:\\n\\n\".format(query)"
      ]
    },
    {
      "cell_type": "code",
      "execution_count": null,
      "metadata": {
        "id": "zrUYAOKCSdS9"
      },
      "outputs": [],
      "source": [
        "# For fine-tuned RAFT model (Structured Messages Format)\n",
        "# Format documents with tags to match training format\n",
        "formatted_docs = \"\"\n",
        "for doc in retriver_output:\n",
        "  formatted_docs += f\"<DOCUMENT>{doc}</DOCUMENT>\\n\"\n",
        "\n",
        "system_prompt = \"You are a learning assistance chatbot. Based only on the provided knowledge base, answer the user's question.\\\n",
        " If the knowledge base does not contain relevant information to answer the question, clearly state that you do not know and cannot \\\n",
        " answer based on the available information. When you can answer, explain clearly, providing relevant details and background \\\n",
        " information found within the text. Do not use any prior knowledge.\"\n",
        "user_prompt = f\"{formatted_docs}\\nQuestion: {query}\"\n",
        "\n",
        "messages = [\n",
        "    {\"role\": \"system\", \"content\": system_prompt},\n",
        "    {\"role\": \"user\", \"content\": user_prompt}\n",
        "]"
      ]
    },
    {
      "cell_type": "code",
      "execution_count": null,
      "metadata": {
        "colab": {
          "base_uri": "https://localhost:8080/"
        },
        "id": "s595gedXcC3q",
        "outputId": "65517a33-6f6d-43cd-f051-e1af3e8e64ea"
      },
      "outputs": [
        {
          "name": "stdout",
          "output_type": "stream",
          "text": [
            "You are a learning assistance chatbot. Based only on the provided knowledge base, answer the user's question. If the knowledge base does not contain relevant information to answer the question, clearly state that you do not know and cannot answer based on the available information. When you can answer, explain clearly, providing relevant details and background information found within the text. Do not use any prior knowledge. \n",
            "Knowledge base: \n",
            "Embeddings are long vectors of real numbers and provide a way to represent  the knowledge associated with the tokens. During training, a model implicitly  deﬁnes a representation space that determines the meaning of embeddings. Usually,  embeddings are assigned to tokens, i.e. parts of words, but may also be determined  for paragraphs and complete documents. If two embeddings have a small vector  distance, the meaning of the underlying tokens is similar. Foundation Models  generate increasingly reﬁned embeddings in their layers by taking into account the  context of the tokens. The word “bank” close to the word “money” has a different  embedding than a “bank” close to the word “river”, making the embeddings  contextual. These effects also apply to tokens of different media types.  Embeddings are calculated by self-attention computing correlations between  linear projections of input embeddings. This is done in parallel by multiple linear\n",
            "Internet to train the models. In the second step, the model was ﬁne-tuned with  a few-thousand manually annotated sentences to solve a speciﬁc task, such as  determining, whether a movie review expresses a positive sentiment. The approach  worked extremely well, showing that the models have the capability to detect  subtle semantic properties of language. This two-step procedure was called transfer  learning. After extensive experimentation, it was found that these models worked  better the bigger they became and the more data their training sets contained.  Knowledge in PLMs is stored by a huge number of parameters. Parameters  contain the recipe to compute embeddings for the input tokens of the models. 8.1 Foundation Models Are a New Paradigm 385 Embeddings are long vectors of real numbers and provide a way to represent  the knowledge associated with the tokens. During training, a model implicitly  deﬁnes a representation space that determines the meaning of embeddings. Usually,\n",
            "that StyleLM has problems with content reproduction. They propose to pre-train  the encoder-decoder .DECw(ENCu(x)) on a large generic corpus. Afterwards the  encoder-decoder is ﬁne-tuned on the text of the target author.  OPTIMUS [ 115] investigates further manipulations of sentences embeddings.  An encoder with parameter . u is required to generate a latent vector from text . z= ENCu(x). It is initialized with a pre-trained BERT model. A linearly transformed  version .z=W∗h [CLS] of the embedding of the ﬁrst token [CLS] of a sentence is  deﬁned as latent representation. The generator (decoder) with parameter . w generates  the text sequence .x=D ECw(z) from a random vector . z (e.g. multivariate Gaussian)  with prior .p(z). The authors start with a pre-trained GPT-2 model as decoder. . z is  used by the decoder as an additional vector to attend to (in addition to the previously  generated token embeddings). Both networks .˜x=D ECw(ENCu(x)) are trained\n",
            "by the same PLM (BERT or RoBERTa). Similarity was compared by the cosine  similarity  .φ(ηq(q),η d(di))= ηq(q)⊺ηd(di) ηq(q) ∗ ηd(di) . (6.6)  To generate sentence embeddings the authors investigated three alternatives. (1)  Use the embedding of the [CLS] token. (2) Averaging (mean-pooling) of all  output embeddings. (3) Component-wise maximum (max-pooling) of all output  embeddings. Without ﬁne-tuning the results were worse than for non-contextual  embeddings. Fine-tuning boosted performance and yields a new S OTA. It turned out  that average pooling was the most effective design, slightly better than max pooling  or using the [CLS] token. Most important the computation time for ﬁnding the best  match in 10,000 documents was reduced from 65 h to 5 s.  DPR [ 94] used separate encoders .ηq(q) and .ηd(di) for the query q and the text  passages . di of about 100 words. Both encoders took the [CLS] embedding from  BERT.BASE as its output representation. As comparison function the inner product\n",
            "embeddings are concatenated and used as input to a logistic classiﬁer to estimate  the probability of the possible relations (or ‘no relation’). Pre-trained variants of  BERT are ﬁne-tuned with ACE 2005 to predict the relations. With a BERT. BASE model of 105M parameters the approach yields an F1-value of 68.8% on the ACE05  benchmark. If ALBERT.XXLARGE [45] with 235M parameters is used to compute the  embeddings, the F1-score grows to 72.3%.  For NER, the PL-Marker model uses a similar approach. For each possible  span in the input starting at token . vi and ending at token .vj,j≥i , leviated markers  are created, which do not affect the embeddings of the normal tokens. Again the  embeddings of the start and end tokens of a span as well as the embeddings of  leviated markers are input for a logistic classiﬁer computing the probability of the 5.4 Relation Extraction 213 “This Must Be the Place” is a song by new wave band  Talking Heads, released in November 1983 as the\n",
            "Question: What's the meaning of embeddings in NLP?\n",
            "Indicate what you refer to in the knowledge database briefly, Answer the question concisely with nice structure and fluent logic in one paragraph:\n",
            "\n"
          ]
        }
      ],
      "source": [
        "print(rag_prompts)"
      ]
    },
    {
      "cell_type": "code",
      "execution_count": null,
      "metadata": {
        "colab": {
          "base_uri": "https://localhost:8080/"
        },
        "id": "pP85sEldhIIF",
        "outputId": "062d2e8b-beed-4a28-c4f4-3048cdf294db"
      },
      "outputs": [
        {
          "name": "stdout",
          "output_type": "stream",
          "text": [
            "You are a learning assistance chatbot answering the given question.\n",
            "Question: What's the meaning of embeddings in NLP?\n",
            "Following the instruction at beginning, answer the question in your words concisely with in one paragraph:\n",
            "\n",
            "\n"
          ]
        }
      ],
      "source": [
        "print(plain_prompts)"
      ]
    },
    {
      "cell_type": "code",
      "execution_count": null,
      "metadata": {
        "colab": {
          "base_uri": "https://localhost:8080/"
        },
        "id": "mPn3QPV1SjIi",
        "outputId": "6caef7e4-f90a-4108-8baf-ca9fb448f4ac"
      },
      "outputs": [
        {
          "data": {
            "text/plain": [
              "[{'role': 'system',\n",
              "  'content': \"You are a learning assistance chatbot. Based only on the provided knowledge base, answer the user's question. If the knowledge base does not contain relevant information to answer the question, clearly state that you do not know and cannot answer based on the available information. When you can answer, explain clearly, providing relevant details and background information found within the text. Do not use any prior knowledge.\"},\n",
              " {'role': 'user',\n",
              "  'content': \"<DOCUMENT>Embeddings are long vectors of real numbers and provide a way to represent  the knowledge associated with the tokens. During training, a model implicitly  deﬁnes a representation space that determines the meaning of embeddings. Usually,  embeddings are assigned to tokens, i.e. parts of words, but may also be determined  for paragraphs and complete documents. If two embeddings have a small vector  distance, the meaning of the underlying tokens is similar. Foundation Models  generate increasingly reﬁned embeddings in their layers by taking into account the  context of the tokens. The word “bank” close to the word “money” has a different  embedding than a “bank” close to the word “river”, making the embeddings  contextual. These effects also apply to tokens of different media types.  Embeddings are calculated by self-attention computing correlations between  linear projections of input embeddings. This is done in parallel by multiple linear</DOCUMENT>\\n<DOCUMENT>Internet to train the models. In the second step, the model was ﬁne-tuned with  a few-thousand manually annotated sentences to solve a speciﬁc task, such as  determining, whether a movie review expresses a positive sentiment. The approach  worked extremely well, showing that the models have the capability to detect  subtle semantic properties of language. This two-step procedure was called transfer  learning. After extensive experimentation, it was found that these models worked  better the bigger they became and the more data their training sets contained.  Knowledge in PLMs is stored by a huge number of parameters. Parameters  contain the recipe to compute embeddings for the input tokens of the models. 8.1 Foundation Models Are a New Paradigm 385 Embeddings are long vectors of real numbers and provide a way to represent  the knowledge associated with the tokens. During training, a model implicitly  deﬁnes a representation space that determines the meaning of embeddings. Usually,</DOCUMENT>\\n<DOCUMENT>that StyleLM has problems with content reproduction. They propose to pre-train  the encoder-decoder .DECw(ENCu(x)) on a large generic corpus. Afterwards the  encoder-decoder is ﬁne-tuned on the text of the target author.  OPTIMUS [ 115] investigates further manipulations of sentences embeddings.  An encoder with parameter . u is required to generate a latent vector from text . z= ENCu(x). It is initialized with a pre-trained BERT model. A linearly transformed  version .z=W∗h [CLS] of the embedding of the ﬁrst token [CLS] of a sentence is  deﬁned as latent representation. The generator (decoder) with parameter . w generates  the text sequence .x=D ECw(z) from a random vector . z (e.g. multivariate Gaussian)  with prior .p(z). The authors start with a pre-trained GPT-2 model as decoder. . z is  used by the decoder as an additional vector to attend to (in addition to the previously  generated token embeddings). Both networks .˜x=D ECw(ENCu(x)) are trained</DOCUMENT>\\n<DOCUMENT>by the same PLM (BERT or RoBERTa). Similarity was compared by the cosine  similarity  .φ(ηq(q),η d(di))= ηq(q)⊺ηd(di)\\ued79\\ued79 ηq(q) \\ued79\\ued79∗ \\ued79\\ued79ηd(di) \\ued79\\ued79. (6.6)  To generate sentence embeddings the authors investigated three alternatives. (1)  Use the embedding of the [CLS] token. (2) Averaging (mean-pooling) of all  output embeddings. (3) Component-wise maximum (max-pooling) of all output  embeddings. Without ﬁne-tuning the results were worse than for non-contextual  embeddings. Fine-tuning boosted performance and yields a new S OTA. It turned out  that average pooling was the most effective design, slightly better than max pooling  or using the [CLS] token. Most important the computation time for ﬁnding the best  match in 10,000 documents was reduced from 65 h to 5 s.  DPR [ 94] used separate encoders .ηq(q) and .ηd(di) for the query q and the text  passages . di of about 100 words. Both encoders took the [CLS] embedding from  BERT.BASE as its output representation. As comparison function the inner product</DOCUMENT>\\n<DOCUMENT>embeddings are concatenated and used as input to a logistic classiﬁer to estimate  the probability of the possible relations (or ‘no relation’). Pre-trained variants of  BERT are ﬁne-tuned with ACE 2005 to predict the relations. With a BERT. BASE model of 105M parameters the approach yields an F1-value of 68.8% on the ACE05  benchmark. If ALBERT.XXLARGE [45] with 235M parameters is used to compute the  embeddings, the F1-score grows to 72.3%.  For NER, the PL-Marker model uses a similar approach. For each possible  span in the input starting at token . vi and ending at token .vj,j≥i , leviated markers  are created, which do not affect the embeddings of the normal tokens. Again the  embeddings of the start and end tokens of a span as well as the embeddings of  leviated markers are input for a logistic classiﬁer computing the probability of the 5.4 Relation Extraction 213 “This Must Be the Place” is a song by new wave band  Talking Heads, released in November 1983 as the</DOCUMENT>\\n\\nQuestion: What's the meaning of embeddings in NLP?\"}]"
            ]
          },
          "execution_count": 21,
          "metadata": {},
          "output_type": "execute_result"
        }
      ],
      "source": [
        "messages"
      ]
    },
    {
      "cell_type": "markdown",
      "metadata": {
        "id": "xsPoM2rokcJb"
      },
      "source": [
        "## Generator\n",
        "Language model: https://huggingface.co/TinyLlama/TinyLlama-1.1B-Chat-v1.0"
      ]
    },
    {
      "cell_type": "code",
      "execution_count": null,
      "metadata": {
        "colab": {
          "base_uri": "https://localhost:8080/",
          "height": 128
        },
        "collapsed": true,
        "id": "jOpnc2tEgtIc",
        "outputId": "bff7ed6c-f1d5-4ad9-a448-47a150b629b3"
      },
      "outputs": [
        {
          "data": {
            "application/vnd.google.colaboratory.intrinsic+json": {
              "type": "string"
            },
            "text/plain": [
              "'\\nif improved_rag:\\n  print(\"Skip this cell\")\\nelse:\\n  print(\"Run this cell\")\\n\\n  model_name = \\'TinyLlama/TinyLlama-1.1B-Chat-v1.0\\'\\n  tokenizer = AutoTokenizer.from_pretrained(model_name, trust_remote_code=True)\\n  model = AutoModelForCausalLM.from_pretrained(model_name, trust_remote_code=True).to(device)\\n\\n  inputs = tokenizer.encode(rag_prompts, return_tensors=\\'pt\\').to(device)    # rag_prompts / plain_prompts\\n  outputs = model.generate(inputs, max_length=1500, num_return_sequences=1, repetition_penalty=1.2)\\n  answer = tokenizer.decode(outputs[0], skip_special_tokens=True)\\n\\n  print(textwrap.fill(answer[len(rag_prompts):], width=100))\\n'"
            ]
          },
          "execution_count": 31,
          "metadata": {},
          "output_type": "execute_result"
        }
      ],
      "source": [
        "'''\n",
        "if improved_rag:\n",
        "  print(\"Skip this cell\")\n",
        "else:\n",
        "  print(\"Run this cell\")\n",
        "\n",
        "  model_name = 'TinyLlama/TinyLlama-1.1B-Chat-v1.0'\n",
        "  tokenizer = AutoTokenizer.from_pretrained(model_name, trust_remote_code=True)\n",
        "  model = AutoModelForCausalLM.from_pretrained(model_name, trust_remote_code=True).to(device)\n",
        "\n",
        "  inputs = tokenizer.encode(rag_prompts, return_tensors='pt').to(device)    # rag_prompts / plain_prompts\n",
        "  outputs = model.generate(inputs, max_length=1500, num_return_sequences=1, repetition_penalty=1.2)\n",
        "  answer = tokenizer.decode(outputs[0], skip_special_tokens=True)\n",
        "\n",
        "  print(textwrap.fill(answer[len(rag_prompts):], width=100))\n",
        "'''"
      ]
    },
    {
      "cell_type": "markdown",
      "metadata": {
        "id": "ZYJBesYUePwu"
      },
      "source": [
        "Language model: https://huggingface.co/meta-llama/Llama-3.2-3B-Instruct"
      ]
    },
    {
      "cell_type": "code",
      "execution_count": null,
      "metadata": {
        "colab": {
          "base_uri": "https://localhost:8080/",
          "height": 196,
          "referenced_widgets": [
            "cf6284d7f7a44e8ca9e680017f855a9c",
            "411499428c9347b88d453e47e1ff2ca0",
            "ed0b447441364d32916f9d64b614296f",
            "acde28d8d99346e785d1f1ade34a33a8",
            "6359528adc284cf6b3dbe15b339be830",
            "f812761779e34e02bec519440535ed08",
            "bd8cd31775e34546be23560582a0da31",
            "2946f3277b8944b89559cb82e414aed8",
            "c9786871a7424832b91ba7cae26fb43a",
            "f78c58deb5994a5a89a96b63d5860a76",
            "2d2a39c13a0e491aa405312974e280a7"
          ]
        },
        "id": "zpHBnMjh_ez0",
        "outputId": "4743c419-e079-4a72-ae11-fedd9bfd782c"
      },
      "outputs": [
        {
          "name": "stdout",
          "output_type": "stream",
          "text": [
            "Run this cell\n"
          ]
        },
        {
          "data": {
            "application/vnd.jupyter.widget-view+json": {
              "model_id": "cf6284d7f7a44e8ca9e680017f855a9c",
              "version_major": 2,
              "version_minor": 0
            },
            "text/plain": [
              "Loading checkpoint shards:   0%|          | 0/2 [00:00<?, ?it/s]"
            ]
          },
          "metadata": {},
          "output_type": "display_data"
        },
        {
          "name": "stdout",
          "output_type": "stream",
          "text": [
            "Embeddings in NLP refer to long vectors of real numbers that represent the knowledge associated with\n",
            "tokens, such as words or phrases. These vectors are learned during training and implicitly define a\n",
            "representation space that determines the meaning of the tokens. The meaning of two tokens with\n",
            "similar embeddings is similar, indicating that the embeddings capture semantic relationships between\n",
            "tokens. In the context of NLP, embeddings are calculated by self-attention computing correlations\n",
            "between linear projections of input embeddings, allowing models to capture subtle semantic\n",
            "properties of language. (Source: Knowledge Base)\n"
          ]
        }
      ],
      "source": [
        "# For original approach - without the fine-tuned model\n",
        "if improved_rag:\n",
        "  print(\"Skip this cell\")\n",
        "else:\n",
        "  print(\"Run this cell\")\n",
        "\n",
        "  # Configuring 4-bit Quantization Parameters\n",
        "  quantization_config = BitsAndBytesConfig(\n",
        "      load_in_4bit=True,\n",
        "      bnb_4bit_quant_type='nf4',\n",
        "      bnb_4bit_compute_dtype=torch.float16\n",
        "  )\n",
        "\n",
        "  # Loading the model and its tokenizer\n",
        "  model_id_1 = \"meta-llama/Llama-3.2-3B-Instruct\"\n",
        "  tokenizer_1 = AutoTokenizer.from_pretrained(model_id_1)\n",
        "  model_1 = AutoModelForCausalLM.from_pretrained(\n",
        "      model_id_1,\n",
        "      quantization_config=quantization_config,\n",
        "      device_map=\"auto\"\n",
        "  )\n",
        "\n",
        "  # Inference function\n",
        "  def generate_response(prompt, model, tokenizer, max_length=8000):\n",
        "      inputs = tokenizer(prompt, return_tensors=\"pt\").to(\"cuda\")\n",
        "\n",
        "      # Generate with the prompt tokens\n",
        "      prompt_length = inputs.input_ids.shape[1]\n",
        "      outputs = model.generate(\n",
        "          **inputs,\n",
        "          max_new_tokens=max_length,\n",
        "          pad_token_id=tokenizer.eos_token_id\n",
        "      )\n",
        "\n",
        "      # Only decode the newly generated tokens\n",
        "      response = tokenizer.decode(outputs[0][prompt_length:], skip_special_tokens=True)\n",
        "      return response.strip()\n",
        "\n",
        "  # Generate an answer\n",
        "  answer = generate_response(rag_prompts, model_1, tokenizer_1)\n",
        "  print(textwrap.fill(answer, width=100))\n",
        "\n",
        "  # Release VRAM\n",
        "  del model_1\n",
        "  del tokenizer_1\n",
        "  gc.collect()\n",
        "  torch.cuda.empty_cache()"
      ]
    },
    {
      "cell_type": "markdown",
      "metadata": {
        "id": "iftpwov2eUqD"
      },
      "source": [
        "LoRA adaptor: https://huggingface.co/Yanzhii/llama-3.2-3b-raft-adapter"
      ]
    },
    {
      "cell_type": "code",
      "execution_count": null,
      "metadata": {
        "colab": {
          "base_uri": "https://localhost:8080/",
          "height": 563,
          "referenced_widgets": [
            "d623f559765e48e99f8f937767bc8be0",
            "fc9a8bd9ea354251b729109b8cc7890a",
            "172289d2007e4a8093e556754e2eb1d4",
            "496746e263f5482dbec2b40e40683728",
            "9900e62a59dd4cf2b0d19cf602cef718",
            "ff3b4c12d55f442cb33986771fb51169",
            "fc8eabffecc64e9e820115aa312ca6e3",
            "f124db3f80a6431a9964c4e790293df8",
            "f45e86a0805641c0b083e89fd295960d",
            "dc4dc37f5d7542e5a141b1ac7c742035",
            "330d281414ef4ca19fc9258d09761f9e"
          ]
        },
        "id": "m88aMCK-ODoa",
        "outputId": "d29771ac-f331-4ff6-dfe8-cd1a143a5fbf"
      },
      "outputs": [
        {
          "name": "stdout",
          "output_type": "stream",
          "text": [
            "Run this cell\n",
            "Loading base model: meta-llama/Llama-3.2-3B-Instruct\n"
          ]
        },
        {
          "data": {
            "application/vnd.jupyter.widget-view+json": {
              "model_id": "d623f559765e48e99f8f937767bc8be0",
              "version_major": 2,
              "version_minor": 0
            },
            "text/plain": [
              "Loading checkpoint shards:   0%|          | 0/2 [00:00<?, ?it/s]"
            ]
          },
          "metadata": {},
          "output_type": "display_data"
        },
        {
          "name": "stdout",
          "output_type": "stream",
          "text": [
            "Loading adapter: Yanzhii/llama-3.2-3b-raft-adapter\n",
            "Generating response using RAFT fine-tuned model...\n",
            "\n",
            "Chain of Thought:\n",
            "To answer the question about the meaning of embeddings in NLP, we need to carefully examine the\n",
            "context provided.  1. **Contextual Clues**: The context discusses the use of embeddings in Natural\n",
            "Language Processing (NLP). It mentions that embeddings are long vectors of real numbers and provide\n",
            "a way to represent the knowledge associated with the tokens.  2. **Key Information**: The context\n",
            "highlights the role of embeddings in determining the meaning of embeddings. It states that during\n",
            "training, a model implicitly defines a representation space that determines the meaning of\n",
            "embeddings. This indicates that embeddings are not just numerical representations but also carry\n",
            "semantic meaning.  3. **Semantic Interpretation**: The context suggests that embeddings are\n",
            "contextual, meaning they are influenced by the context in which they appear. For example, embeddings\n",
            "from the [CLS] token are different from those from other tokens in the same context.  4. **Embedding\n",
            "in NLP**: In the context of NLP, embeddings are used to capture the semantic meaning of words or\n",
            "tokens. They are often used as inputs to machine learning models to predict the meaning or intent\n",
            "behind a piece of text.  5. **Conclusion**: Based on the contextual clues and key information,\n",
            "embeddings in NLP are a way to represent the semantic meaning of tokens in a numerical format. They\n",
            "are used to capture the essence of the tokens and are influenced by the context in which they\n",
            "appear.\n",
            "\n",
            "Final Answer:\n",
            "Embeddings in NLP are a way to represent the semantic meaning of tokens in a numerical format,\n",
            "capturing the essence of the tokens and influenced by their context.\n",
            "\n",
            "Memory cleared\n"
          ]
        }
      ],
      "source": [
        "if improved_rag:\n",
        "  print(\"Run this cell\")\n",
        "\n",
        "  # Configuration for model loading\n",
        "  quantization_config = BitsAndBytesConfig(\n",
        "      load_in_4bit=True,\n",
        "      bnb_4bit_quant_type='nf4',\n",
        "      bnb_4bit_compute_dtype=torch.float16\n",
        "  )\n",
        "\n",
        "  # Variables setup\n",
        "  base_model_id = \"meta-llama/Llama-3.2-3B-Instruct\"\n",
        "  hf_username = \"Yanzhii\"  # Hugging Face username\n",
        "  adapter_name = \"llama-3.2-3b-raft-adapter\"  # Adapter name\n",
        "  adapter_repo_id = f\"{hf_username}/{adapter_name}\"\n",
        "\n",
        "  print(f\"Loading base model: {base_model_id}\")\n",
        "\n",
        "  # Load tokenizer and base model\n",
        "  tokenizer_ft = AutoTokenizer.from_pretrained(base_model_id)\n",
        "  base_model = AutoModelForCausalLM.from_pretrained(\n",
        "      base_model_id,\n",
        "      quantization_config=quantization_config,\n",
        "      device_map=\"auto\"\n",
        "  )\n",
        "\n",
        "  print(f\"Loading adapter: {adapter_repo_id}\")\n",
        "\n",
        "  # Load and merge with the LoRA adapter\n",
        "  model_ft = PeftModel.from_pretrained(base_model, adapter_repo_id)\n",
        "  model_ft.eval()  # Set to evaluation mode\n",
        "\n",
        "  # Generate response and separate CoT and answer parts\n",
        "  def generate_raft_response(messages, max_length=2000):\n",
        "      # Apply chat template to convert messages to model input format\n",
        "      inputs = tokenizer_ft.apply_chat_template(\n",
        "          messages,\n",
        "          add_generation_prompt=True,\n",
        "          return_tensors=\"pt\"\n",
        "      ).to(\"cuda\")\n",
        "\n",
        "      # Fix attention mask issue\n",
        "      attention_mask = torch.ones_like(inputs)\n",
        "\n",
        "      # Generate response\n",
        "      outputs = model_ft.generate(\n",
        "          input_ids=inputs,\n",
        "          attention_mask=attention_mask,\n",
        "          max_new_tokens=max_length,\n",
        "          pad_token_id=tokenizer_ft.eos_token_id,\n",
        "          temperature=0.7,\n",
        "          top_p=0.9\n",
        "      )\n",
        "\n",
        "      # Decode only the generated part\n",
        "      response_ids = outputs[0][inputs.shape[-1]:]\n",
        "      response_text = tokenizer_ft.decode(response_ids, skip_special_tokens=True)\n",
        "\n",
        "      # Split response at <ANSWER> tag\n",
        "      parts = response_text.split(\"<ANSWER>\")\n",
        "\n",
        "      cot_part = parts[0].strip() if len(parts) > 0 else \"\"\n",
        "      answer_part = parts[1].strip() if len(parts) > 1 else response_text.strip()\n",
        "\n",
        "      # Remove leading colon and spaces from answer if present\n",
        "      if answer_part.startswith(\":\"):\n",
        "          answer_part = answer_part[1:].strip()\n",
        "\n",
        "      return cot_part, answer_part\n",
        "\n",
        "  # Generate answer with fine-tuned model\n",
        "  print(\"Generating response using RAFT fine-tuned model...\\n\")\n",
        "  raft_cot, raft_answer = generate_raft_response(messages)\n",
        "\n",
        "  print(\"Chain of Thought:\")\n",
        "  print(textwrap.fill(raft_cot, width=100))\n",
        "\n",
        "  print(\"\\nFinal Answer:\")\n",
        "  print(textwrap.fill(raft_answer, width=100))\n",
        "\n",
        "  # Release VRAM\n",
        "  del model_ft\n",
        "  del base_model\n",
        "  del tokenizer_ft\n",
        "  gc.collect()\n",
        "  torch.cuda.empty_cache()\n",
        "\n",
        "else:\n",
        "  print(\"Skip this cell\")"
      ]
    },
    {
      "cell_type": "code",
      "execution_count": null,
      "metadata": {
        "id": "Lr0g4TneRtrQ"
      },
      "outputs": [],
      "source": []
    }
  ],
  "metadata": {
    "colab": {
      "provenance": [],
      "include_colab_link": true
    },
    "kernelspec": {
      "display_name": "Python 3",
      "name": "python3"
    },
    "language_info": {
      "name": "python"
    },
    "widgets": {
      "application/vnd.jupyter.widget-state+json": {
        "172289d2007e4a8093e556754e2eb1d4": {
          "model_module": "@jupyter-widgets/controls",
          "model_module_version": "1.5.0",
          "model_name": "FloatProgressModel",
          "state": {
            "_dom_classes": [],
            "_model_module": "@jupyter-widgets/controls",
            "_model_module_version": "1.5.0",
            "_model_name": "FloatProgressModel",
            "_view_count": null,
            "_view_module": "@jupyter-widgets/controls",
            "_view_module_version": "1.5.0",
            "_view_name": "ProgressView",
            "bar_style": "success",
            "description": "",
            "description_tooltip": null,
            "layout": "IPY_MODEL_f124db3f80a6431a9964c4e790293df8",
            "max": 2,
            "min": 0,
            "orientation": "horizontal",
            "style": "IPY_MODEL_f45e86a0805641c0b083e89fd295960d",
            "value": 2
          }
        },
        "2946f3277b8944b89559cb82e414aed8": {
          "model_module": "@jupyter-widgets/base",
          "model_module_version": "1.2.0",
          "model_name": "LayoutModel",
          "state": {
            "_model_module": "@jupyter-widgets/base",
            "_model_module_version": "1.2.0",
            "_model_name": "LayoutModel",
            "_view_count": null,
            "_view_module": "@jupyter-widgets/base",
            "_view_module_version": "1.2.0",
            "_view_name": "LayoutView",
            "align_content": null,
            "align_items": null,
            "align_self": null,
            "border": null,
            "bottom": null,
            "display": null,
            "flex": null,
            "flex_flow": null,
            "grid_area": null,
            "grid_auto_columns": null,
            "grid_auto_flow": null,
            "grid_auto_rows": null,
            "grid_column": null,
            "grid_gap": null,
            "grid_row": null,
            "grid_template_areas": null,
            "grid_template_columns": null,
            "grid_template_rows": null,
            "height": null,
            "justify_content": null,
            "justify_items": null,
            "left": null,
            "margin": null,
            "max_height": null,
            "max_width": null,
            "min_height": null,
            "min_width": null,
            "object_fit": null,
            "object_position": null,
            "order": null,
            "overflow": null,
            "overflow_x": null,
            "overflow_y": null,
            "padding": null,
            "right": null,
            "top": null,
            "visibility": null,
            "width": null
          }
        },
        "2d2a39c13a0e491aa405312974e280a7": {
          "model_module": "@jupyter-widgets/controls",
          "model_module_version": "1.5.0",
          "model_name": "DescriptionStyleModel",
          "state": {
            "_model_module": "@jupyter-widgets/controls",
            "_model_module_version": "1.5.0",
            "_model_name": "DescriptionStyleModel",
            "_view_count": null,
            "_view_module": "@jupyter-widgets/base",
            "_view_module_version": "1.2.0",
            "_view_name": "StyleView",
            "description_width": ""
          }
        },
        "330d281414ef4ca19fc9258d09761f9e": {
          "model_module": "@jupyter-widgets/controls",
          "model_module_version": "1.5.0",
          "model_name": "DescriptionStyleModel",
          "state": {
            "_model_module": "@jupyter-widgets/controls",
            "_model_module_version": "1.5.0",
            "_model_name": "DescriptionStyleModel",
            "_view_count": null,
            "_view_module": "@jupyter-widgets/base",
            "_view_module_version": "1.2.0",
            "_view_name": "StyleView",
            "description_width": ""
          }
        },
        "411499428c9347b88d453e47e1ff2ca0": {
          "model_module": "@jupyter-widgets/controls",
          "model_module_version": "1.5.0",
          "model_name": "HTMLModel",
          "state": {
            "_dom_classes": [],
            "_model_module": "@jupyter-widgets/controls",
            "_model_module_version": "1.5.0",
            "_model_name": "HTMLModel",
            "_view_count": null,
            "_view_module": "@jupyter-widgets/controls",
            "_view_module_version": "1.5.0",
            "_view_name": "HTMLView",
            "description": "",
            "description_tooltip": null,
            "layout": "IPY_MODEL_f812761779e34e02bec519440535ed08",
            "placeholder": "​",
            "style": "IPY_MODEL_bd8cd31775e34546be23560582a0da31",
            "value": "Loading checkpoint shards: 100%"
          }
        },
        "496746e263f5482dbec2b40e40683728": {
          "model_module": "@jupyter-widgets/controls",
          "model_module_version": "1.5.0",
          "model_name": "HTMLModel",
          "state": {
            "_dom_classes": [],
            "_model_module": "@jupyter-widgets/controls",
            "_model_module_version": "1.5.0",
            "_model_name": "HTMLModel",
            "_view_count": null,
            "_view_module": "@jupyter-widgets/controls",
            "_view_module_version": "1.5.0",
            "_view_name": "HTMLView",
            "description": "",
            "description_tooltip": null,
            "layout": "IPY_MODEL_dc4dc37f5d7542e5a141b1ac7c742035",
            "placeholder": "​",
            "style": "IPY_MODEL_330d281414ef4ca19fc9258d09761f9e",
            "value": " 2/2 [00:13&lt;00:00,  6.30s/it]"
          }
        },
        "6359528adc284cf6b3dbe15b339be830": {
          "model_module": "@jupyter-widgets/base",
          "model_module_version": "1.2.0",
          "model_name": "LayoutModel",
          "state": {
            "_model_module": "@jupyter-widgets/base",
            "_model_module_version": "1.2.0",
            "_model_name": "LayoutModel",
            "_view_count": null,
            "_view_module": "@jupyter-widgets/base",
            "_view_module_version": "1.2.0",
            "_view_name": "LayoutView",
            "align_content": null,
            "align_items": null,
            "align_self": null,
            "border": null,
            "bottom": null,
            "display": null,
            "flex": null,
            "flex_flow": null,
            "grid_area": null,
            "grid_auto_columns": null,
            "grid_auto_flow": null,
            "grid_auto_rows": null,
            "grid_column": null,
            "grid_gap": null,
            "grid_row": null,
            "grid_template_areas": null,
            "grid_template_columns": null,
            "grid_template_rows": null,
            "height": null,
            "justify_content": null,
            "justify_items": null,
            "left": null,
            "margin": null,
            "max_height": null,
            "max_width": null,
            "min_height": null,
            "min_width": null,
            "object_fit": null,
            "object_position": null,
            "order": null,
            "overflow": null,
            "overflow_x": null,
            "overflow_y": null,
            "padding": null,
            "right": null,
            "top": null,
            "visibility": null,
            "width": null
          }
        },
        "9900e62a59dd4cf2b0d19cf602cef718": {
          "model_module": "@jupyter-widgets/base",
          "model_module_version": "1.2.0",
          "model_name": "LayoutModel",
          "state": {
            "_model_module": "@jupyter-widgets/base",
            "_model_module_version": "1.2.0",
            "_model_name": "LayoutModel",
            "_view_count": null,
            "_view_module": "@jupyter-widgets/base",
            "_view_module_version": "1.2.0",
            "_view_name": "LayoutView",
            "align_content": null,
            "align_items": null,
            "align_self": null,
            "border": null,
            "bottom": null,
            "display": null,
            "flex": null,
            "flex_flow": null,
            "grid_area": null,
            "grid_auto_columns": null,
            "grid_auto_flow": null,
            "grid_auto_rows": null,
            "grid_column": null,
            "grid_gap": null,
            "grid_row": null,
            "grid_template_areas": null,
            "grid_template_columns": null,
            "grid_template_rows": null,
            "height": null,
            "justify_content": null,
            "justify_items": null,
            "left": null,
            "margin": null,
            "max_height": null,
            "max_width": null,
            "min_height": null,
            "min_width": null,
            "object_fit": null,
            "object_position": null,
            "order": null,
            "overflow": null,
            "overflow_x": null,
            "overflow_y": null,
            "padding": null,
            "right": null,
            "top": null,
            "visibility": null,
            "width": null
          }
        },
        "acde28d8d99346e785d1f1ade34a33a8": {
          "model_module": "@jupyter-widgets/controls",
          "model_module_version": "1.5.0",
          "model_name": "HTMLModel",
          "state": {
            "_dom_classes": [],
            "_model_module": "@jupyter-widgets/controls",
            "_model_module_version": "1.5.0",
            "_model_name": "HTMLModel",
            "_view_count": null,
            "_view_module": "@jupyter-widgets/controls",
            "_view_module_version": "1.5.0",
            "_view_name": "HTMLView",
            "description": "",
            "description_tooltip": null,
            "layout": "IPY_MODEL_f78c58deb5994a5a89a96b63d5860a76",
            "placeholder": "​",
            "style": "IPY_MODEL_2d2a39c13a0e491aa405312974e280a7",
            "value": " 2/2 [00:16&lt;00:00,  7.52s/it]"
          }
        },
        "bd8cd31775e34546be23560582a0da31": {
          "model_module": "@jupyter-widgets/controls",
          "model_module_version": "1.5.0",
          "model_name": "DescriptionStyleModel",
          "state": {
            "_model_module": "@jupyter-widgets/controls",
            "_model_module_version": "1.5.0",
            "_model_name": "DescriptionStyleModel",
            "_view_count": null,
            "_view_module": "@jupyter-widgets/base",
            "_view_module_version": "1.2.0",
            "_view_name": "StyleView",
            "description_width": ""
          }
        },
        "c9786871a7424832b91ba7cae26fb43a": {
          "model_module": "@jupyter-widgets/controls",
          "model_module_version": "1.5.0",
          "model_name": "ProgressStyleModel",
          "state": {
            "_model_module": "@jupyter-widgets/controls",
            "_model_module_version": "1.5.0",
            "_model_name": "ProgressStyleModel",
            "_view_count": null,
            "_view_module": "@jupyter-widgets/base",
            "_view_module_version": "1.2.0",
            "_view_name": "StyleView",
            "bar_color": null,
            "description_width": ""
          }
        },
        "cf6284d7f7a44e8ca9e680017f855a9c": {
          "model_module": "@jupyter-widgets/controls",
          "model_module_version": "1.5.0",
          "model_name": "HBoxModel",
          "state": {
            "_dom_classes": [],
            "_model_module": "@jupyter-widgets/controls",
            "_model_module_version": "1.5.0",
            "_model_name": "HBoxModel",
            "_view_count": null,
            "_view_module": "@jupyter-widgets/controls",
            "_view_module_version": "1.5.0",
            "_view_name": "HBoxView",
            "box_style": "",
            "children": [
              "IPY_MODEL_411499428c9347b88d453e47e1ff2ca0",
              "IPY_MODEL_ed0b447441364d32916f9d64b614296f",
              "IPY_MODEL_acde28d8d99346e785d1f1ade34a33a8"
            ],
            "layout": "IPY_MODEL_6359528adc284cf6b3dbe15b339be830"
          }
        },
        "d623f559765e48e99f8f937767bc8be0": {
          "model_module": "@jupyter-widgets/controls",
          "model_module_version": "1.5.0",
          "model_name": "HBoxModel",
          "state": {
            "_dom_classes": [],
            "_model_module": "@jupyter-widgets/controls",
            "_model_module_version": "1.5.0",
            "_model_name": "HBoxModel",
            "_view_count": null,
            "_view_module": "@jupyter-widgets/controls",
            "_view_module_version": "1.5.0",
            "_view_name": "HBoxView",
            "box_style": "",
            "children": [
              "IPY_MODEL_fc9a8bd9ea354251b729109b8cc7890a",
              "IPY_MODEL_172289d2007e4a8093e556754e2eb1d4",
              "IPY_MODEL_496746e263f5482dbec2b40e40683728"
            ],
            "layout": "IPY_MODEL_9900e62a59dd4cf2b0d19cf602cef718"
          }
        },
        "dc4dc37f5d7542e5a141b1ac7c742035": {
          "model_module": "@jupyter-widgets/base",
          "model_module_version": "1.2.0",
          "model_name": "LayoutModel",
          "state": {
            "_model_module": "@jupyter-widgets/base",
            "_model_module_version": "1.2.0",
            "_model_name": "LayoutModel",
            "_view_count": null,
            "_view_module": "@jupyter-widgets/base",
            "_view_module_version": "1.2.0",
            "_view_name": "LayoutView",
            "align_content": null,
            "align_items": null,
            "align_self": null,
            "border": null,
            "bottom": null,
            "display": null,
            "flex": null,
            "flex_flow": null,
            "grid_area": null,
            "grid_auto_columns": null,
            "grid_auto_flow": null,
            "grid_auto_rows": null,
            "grid_column": null,
            "grid_gap": null,
            "grid_row": null,
            "grid_template_areas": null,
            "grid_template_columns": null,
            "grid_template_rows": null,
            "height": null,
            "justify_content": null,
            "justify_items": null,
            "left": null,
            "margin": null,
            "max_height": null,
            "max_width": null,
            "min_height": null,
            "min_width": null,
            "object_fit": null,
            "object_position": null,
            "order": null,
            "overflow": null,
            "overflow_x": null,
            "overflow_y": null,
            "padding": null,
            "right": null,
            "top": null,
            "visibility": null,
            "width": null
          }
        },
        "ed0b447441364d32916f9d64b614296f": {
          "model_module": "@jupyter-widgets/controls",
          "model_module_version": "1.5.0",
          "model_name": "FloatProgressModel",
          "state": {
            "_dom_classes": [],
            "_model_module": "@jupyter-widgets/controls",
            "_model_module_version": "1.5.0",
            "_model_name": "FloatProgressModel",
            "_view_count": null,
            "_view_module": "@jupyter-widgets/controls",
            "_view_module_version": "1.5.0",
            "_view_name": "ProgressView",
            "bar_style": "success",
            "description": "",
            "description_tooltip": null,
            "layout": "IPY_MODEL_2946f3277b8944b89559cb82e414aed8",
            "max": 2,
            "min": 0,
            "orientation": "horizontal",
            "style": "IPY_MODEL_c9786871a7424832b91ba7cae26fb43a",
            "value": 2
          }
        },
        "f124db3f80a6431a9964c4e790293df8": {
          "model_module": "@jupyter-widgets/base",
          "model_module_version": "1.2.0",
          "model_name": "LayoutModel",
          "state": {
            "_model_module": "@jupyter-widgets/base",
            "_model_module_version": "1.2.0",
            "_model_name": "LayoutModel",
            "_view_count": null,
            "_view_module": "@jupyter-widgets/base",
            "_view_module_version": "1.2.0",
            "_view_name": "LayoutView",
            "align_content": null,
            "align_items": null,
            "align_self": null,
            "border": null,
            "bottom": null,
            "display": null,
            "flex": null,
            "flex_flow": null,
            "grid_area": null,
            "grid_auto_columns": null,
            "grid_auto_flow": null,
            "grid_auto_rows": null,
            "grid_column": null,
            "grid_gap": null,
            "grid_row": null,
            "grid_template_areas": null,
            "grid_template_columns": null,
            "grid_template_rows": null,
            "height": null,
            "justify_content": null,
            "justify_items": null,
            "left": null,
            "margin": null,
            "max_height": null,
            "max_width": null,
            "min_height": null,
            "min_width": null,
            "object_fit": null,
            "object_position": null,
            "order": null,
            "overflow": null,
            "overflow_x": null,
            "overflow_y": null,
            "padding": null,
            "right": null,
            "top": null,
            "visibility": null,
            "width": null
          }
        },
        "f45e86a0805641c0b083e89fd295960d": {
          "model_module": "@jupyter-widgets/controls",
          "model_module_version": "1.5.0",
          "model_name": "ProgressStyleModel",
          "state": {
            "_model_module": "@jupyter-widgets/controls",
            "_model_module_version": "1.5.0",
            "_model_name": "ProgressStyleModel",
            "_view_count": null,
            "_view_module": "@jupyter-widgets/base",
            "_view_module_version": "1.2.0",
            "_view_name": "StyleView",
            "bar_color": null,
            "description_width": ""
          }
        },
        "f78c58deb5994a5a89a96b63d5860a76": {
          "model_module": "@jupyter-widgets/base",
          "model_module_version": "1.2.0",
          "model_name": "LayoutModel",
          "state": {
            "_model_module": "@jupyter-widgets/base",
            "_model_module_version": "1.2.0",
            "_model_name": "LayoutModel",
            "_view_count": null,
            "_view_module": "@jupyter-widgets/base",
            "_view_module_version": "1.2.0",
            "_view_name": "LayoutView",
            "align_content": null,
            "align_items": null,
            "align_self": null,
            "border": null,
            "bottom": null,
            "display": null,
            "flex": null,
            "flex_flow": null,
            "grid_area": null,
            "grid_auto_columns": null,
            "grid_auto_flow": null,
            "grid_auto_rows": null,
            "grid_column": null,
            "grid_gap": null,
            "grid_row": null,
            "grid_template_areas": null,
            "grid_template_columns": null,
            "grid_template_rows": null,
            "height": null,
            "justify_content": null,
            "justify_items": null,
            "left": null,
            "margin": null,
            "max_height": null,
            "max_width": null,
            "min_height": null,
            "min_width": null,
            "object_fit": null,
            "object_position": null,
            "order": null,
            "overflow": null,
            "overflow_x": null,
            "overflow_y": null,
            "padding": null,
            "right": null,
            "top": null,
            "visibility": null,
            "width": null
          }
        },
        "f812761779e34e02bec519440535ed08": {
          "model_module": "@jupyter-widgets/base",
          "model_module_version": "1.2.0",
          "model_name": "LayoutModel",
          "state": {
            "_model_module": "@jupyter-widgets/base",
            "_model_module_version": "1.2.0",
            "_model_name": "LayoutModel",
            "_view_count": null,
            "_view_module": "@jupyter-widgets/base",
            "_view_module_version": "1.2.0",
            "_view_name": "LayoutView",
            "align_content": null,
            "align_items": null,
            "align_self": null,
            "border": null,
            "bottom": null,
            "display": null,
            "flex": null,
            "flex_flow": null,
            "grid_area": null,
            "grid_auto_columns": null,
            "grid_auto_flow": null,
            "grid_auto_rows": null,
            "grid_column": null,
            "grid_gap": null,
            "grid_row": null,
            "grid_template_areas": null,
            "grid_template_columns": null,
            "grid_template_rows": null,
            "height": null,
            "justify_content": null,
            "justify_items": null,
            "left": null,
            "margin": null,
            "max_height": null,
            "max_width": null,
            "min_height": null,
            "min_width": null,
            "object_fit": null,
            "object_position": null,
            "order": null,
            "overflow": null,
            "overflow_x": null,
            "overflow_y": null,
            "padding": null,
            "right": null,
            "top": null,
            "visibility": null,
            "width": null
          }
        },
        "fc8eabffecc64e9e820115aa312ca6e3": {
          "model_module": "@jupyter-widgets/controls",
          "model_module_version": "1.5.0",
          "model_name": "DescriptionStyleModel",
          "state": {
            "_model_module": "@jupyter-widgets/controls",
            "_model_module_version": "1.5.0",
            "_model_name": "DescriptionStyleModel",
            "_view_count": null,
            "_view_module": "@jupyter-widgets/base",
            "_view_module_version": "1.2.0",
            "_view_name": "StyleView",
            "description_width": ""
          }
        },
        "fc9a8bd9ea354251b729109b8cc7890a": {
          "model_module": "@jupyter-widgets/controls",
          "model_module_version": "1.5.0",
          "model_name": "HTMLModel",
          "state": {
            "_dom_classes": [],
            "_model_module": "@jupyter-widgets/controls",
            "_model_module_version": "1.5.0",
            "_model_name": "HTMLModel",
            "_view_count": null,
            "_view_module": "@jupyter-widgets/controls",
            "_view_module_version": "1.5.0",
            "_view_name": "HTMLView",
            "description": "",
            "description_tooltip": null,
            "layout": "IPY_MODEL_ff3b4c12d55f442cb33986771fb51169",
            "placeholder": "​",
            "style": "IPY_MODEL_fc8eabffecc64e9e820115aa312ca6e3",
            "value": "Loading checkpoint shards: 100%"
          }
        },
        "ff3b4c12d55f442cb33986771fb51169": {
          "model_module": "@jupyter-widgets/base",
          "model_module_version": "1.2.0",
          "model_name": "LayoutModel",
          "state": {
            "_model_module": "@jupyter-widgets/base",
            "_model_module_version": "1.2.0",
            "_model_name": "LayoutModel",
            "_view_count": null,
            "_view_module": "@jupyter-widgets/base",
            "_view_module_version": "1.2.0",
            "_view_name": "LayoutView",
            "align_content": null,
            "align_items": null,
            "align_self": null,
            "border": null,
            "bottom": null,
            "display": null,
            "flex": null,
            "flex_flow": null,
            "grid_area": null,
            "grid_auto_columns": null,
            "grid_auto_flow": null,
            "grid_auto_rows": null,
            "grid_column": null,
            "grid_gap": null,
            "grid_row": null,
            "grid_template_areas": null,
            "grid_template_columns": null,
            "grid_template_rows": null,
            "height": null,
            "justify_content": null,
            "justify_items": null,
            "left": null,
            "margin": null,
            "max_height": null,
            "max_width": null,
            "min_height": null,
            "min_width": null,
            "object_fit": null,
            "object_position": null,
            "order": null,
            "overflow": null,
            "overflow_x": null,
            "overflow_y": null,
            "padding": null,
            "right": null,
            "top": null,
            "visibility": null,
            "width": null
          }
        }
      }
    }
  },
  "nbformat": 4,
  "nbformat_minor": 0
}